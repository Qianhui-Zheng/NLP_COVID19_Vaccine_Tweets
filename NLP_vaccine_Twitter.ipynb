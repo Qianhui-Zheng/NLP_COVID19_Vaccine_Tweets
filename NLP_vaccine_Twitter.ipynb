{
 "cells": [
  {
   "cell_type": "code",
   "execution_count": 105,
   "metadata": {},
   "outputs": [],
   "source": [
    "import numpy as np\n",
    "import pandas as pd\n",
    "import re\n",
    "import random\n",
    "import geonamescache\n",
    "import nltk\n",
    "import string\n",
    "from discordemoji import emojis\n",
    "from discordemoji import replace\n",
    "from nltk.corpus import stopwords\n",
    "from textblob import TextBlob\n",
    "from textblob.sentiments import NaiveBayesAnalyzer\n",
    "import plotly.graph_objects as go\n",
    "import matplotlib.pyplot as plt \n",
    "import pandas as pd\n",
    "from gensim import matutils, models\n",
    "import scipy.sparse\n",
    "from sklearn.feature_extraction.text import CountVectorizer\n",
    "from nltk import word_tokenize, pos_tag\n",
    "from sklearn.linear_model import LinearRegression\n",
    "import statsmodels.api as sm\n"
   ]
  },
  {
   "cell_type": "code",
   "execution_count": 2,
   "metadata": {},
   "outputs": [],
   "source": [
    "random.seed(42)"
   ]
  },
  {
   "cell_type": "code",
   "execution_count": 3,
   "metadata": {},
   "outputs": [
    {
     "data": {
      "text/html": [
       "<div>\n",
       "<style scoped>\n",
       "    .dataframe tbody tr th:only-of-type {\n",
       "        vertical-align: middle;\n",
       "    }\n",
       "\n",
       "    .dataframe tbody tr th {\n",
       "        vertical-align: top;\n",
       "    }\n",
       "\n",
       "    .dataframe thead th {\n",
       "        text-align: right;\n",
       "    }\n",
       "</style>\n",
       "<table border=\"1\" class=\"dataframe\">\n",
       "  <thead>\n",
       "    <tr style=\"text-align: right;\">\n",
       "      <th></th>\n",
       "      <th>id</th>\n",
       "      <th>user_name</th>\n",
       "      <th>user_location</th>\n",
       "      <th>user_description</th>\n",
       "      <th>user_created</th>\n",
       "      <th>user_followers</th>\n",
       "      <th>user_friends</th>\n",
       "      <th>user_favourites</th>\n",
       "      <th>user_verified</th>\n",
       "      <th>date</th>\n",
       "      <th>text</th>\n",
       "      <th>hashtags</th>\n",
       "      <th>source</th>\n",
       "      <th>retweets</th>\n",
       "      <th>favorites</th>\n",
       "      <th>is_retweet</th>\n",
       "    </tr>\n",
       "  </thead>\n",
       "  <tbody>\n",
       "    <tr>\n",
       "      <th>0</th>\n",
       "      <td>1340539111971516416</td>\n",
       "      <td>Rachel Roh</td>\n",
       "      <td>La Crescenta-Montrose, CA</td>\n",
       "      <td>Aggregator of Asian American news; scanning di...</td>\n",
       "      <td>2009-04-08 17:52:46</td>\n",
       "      <td>405</td>\n",
       "      <td>1692</td>\n",
       "      <td>3247</td>\n",
       "      <td>False</td>\n",
       "      <td>2020-12-20 06:06:44</td>\n",
       "      <td>Same folks said daikon paste could treat a cyt...</td>\n",
       "      <td>['PfizerBioNTech']</td>\n",
       "      <td>Twitter for Android</td>\n",
       "      <td>0</td>\n",
       "      <td>0</td>\n",
       "      <td>False</td>\n",
       "    </tr>\n",
       "    <tr>\n",
       "      <th>1</th>\n",
       "      <td>1338158543359250433</td>\n",
       "      <td>Albert Fong</td>\n",
       "      <td>San Francisco, CA</td>\n",
       "      <td>Marketing dude, tech geek, heavy metal &amp; '80s ...</td>\n",
       "      <td>2009-09-21 15:27:30</td>\n",
       "      <td>834</td>\n",
       "      <td>666</td>\n",
       "      <td>178</td>\n",
       "      <td>False</td>\n",
       "      <td>2020-12-13 16:27:13</td>\n",
       "      <td>While the world has been on the wrong side of ...</td>\n",
       "      <td>NaN</td>\n",
       "      <td>Twitter Web App</td>\n",
       "      <td>1</td>\n",
       "      <td>1</td>\n",
       "      <td>False</td>\n",
       "    </tr>\n",
       "    <tr>\n",
       "      <th>2</th>\n",
       "      <td>1337858199140118533</td>\n",
       "      <td>eli🇱🇹🇪🇺👌</td>\n",
       "      <td>Your Bed</td>\n",
       "      <td>heil, hydra 🖐☺</td>\n",
       "      <td>2020-06-25 23:30:28</td>\n",
       "      <td>10</td>\n",
       "      <td>88</td>\n",
       "      <td>155</td>\n",
       "      <td>False</td>\n",
       "      <td>2020-12-12 20:33:45</td>\n",
       "      <td>#coronavirus #SputnikV #AstraZeneca #PfizerBio...</td>\n",
       "      <td>['coronavirus', 'SputnikV', 'AstraZeneca', 'Pf...</td>\n",
       "      <td>Twitter for Android</td>\n",
       "      <td>0</td>\n",
       "      <td>0</td>\n",
       "      <td>False</td>\n",
       "    </tr>\n",
       "    <tr>\n",
       "      <th>3</th>\n",
       "      <td>1337855739918835717</td>\n",
       "      <td>Charles Adler</td>\n",
       "      <td>Vancouver, BC - Canada</td>\n",
       "      <td>Hosting \"CharlesAdlerTonight\" Global News Radi...</td>\n",
       "      <td>2008-09-10 11:28:53</td>\n",
       "      <td>49165</td>\n",
       "      <td>3933</td>\n",
       "      <td>21853</td>\n",
       "      <td>True</td>\n",
       "      <td>2020-12-12 20:23:59</td>\n",
       "      <td>Facts are immutable, Senator, even when you're...</td>\n",
       "      <td>NaN</td>\n",
       "      <td>Twitter Web App</td>\n",
       "      <td>446</td>\n",
       "      <td>2129</td>\n",
       "      <td>False</td>\n",
       "    </tr>\n",
       "    <tr>\n",
       "      <th>4</th>\n",
       "      <td>1337854064604966912</td>\n",
       "      <td>Citizen News Channel</td>\n",
       "      <td>NaN</td>\n",
       "      <td>Citizen News Channel bringing you an alternati...</td>\n",
       "      <td>2020-04-23 17:58:42</td>\n",
       "      <td>152</td>\n",
       "      <td>580</td>\n",
       "      <td>1473</td>\n",
       "      <td>False</td>\n",
       "      <td>2020-12-12 20:17:19</td>\n",
       "      <td>Explain to me again why we need a vaccine @Bor...</td>\n",
       "      <td>['whereareallthesickpeople', 'PfizerBioNTech']</td>\n",
       "      <td>Twitter for iPhone</td>\n",
       "      <td>0</td>\n",
       "      <td>0</td>\n",
       "      <td>False</td>\n",
       "    </tr>\n",
       "    <tr>\n",
       "      <th>...</th>\n",
       "      <td>...</td>\n",
       "      <td>...</td>\n",
       "      <td>...</td>\n",
       "      <td>...</td>\n",
       "      <td>...</td>\n",
       "      <td>...</td>\n",
       "      <td>...</td>\n",
       "      <td>...</td>\n",
       "      <td>...</td>\n",
       "      <td>...</td>\n",
       "      <td>...</td>\n",
       "      <td>...</td>\n",
       "      <td>...</td>\n",
       "      <td>...</td>\n",
       "      <td>...</td>\n",
       "      <td>...</td>\n",
       "    </tr>\n",
       "    <tr>\n",
       "      <th>206962</th>\n",
       "      <td>1445962108055732232</td>\n",
       "      <td>COVID News</td>\n",
       "      <td>Estados Unidos</td>\n",
       "      <td>News about COVID-19</td>\n",
       "      <td>2013-06-05 08:52:31</td>\n",
       "      <td>3373</td>\n",
       "      <td>1472</td>\n",
       "      <td>129</td>\n",
       "      <td>False</td>\n",
       "      <td>2021-10-07 04:00:05</td>\n",
       "      <td>45+ #URBAN #Bengaluru #CovidVaccine Availabili...</td>\n",
       "      <td>['URBAN', 'Bengaluru', 'CovidVaccine', 'COVISH...</td>\n",
       "      <td>Revive Social App</td>\n",
       "      <td>0</td>\n",
       "      <td>0</td>\n",
       "      <td>False</td>\n",
       "    </tr>\n",
       "    <tr>\n",
       "      <th>206963</th>\n",
       "      <td>1445956889305440264</td>\n",
       "      <td>CoWIN Blore 18-44</td>\n",
       "      <td>Bengaluru, India</td>\n",
       "      <td>Get instant alerts for Free/Paid slots in BBMP...</td>\n",
       "      <td>2021-06-29 09:33:13</td>\n",
       "      <td>21</td>\n",
       "      <td>0</td>\n",
       "      <td>2</td>\n",
       "      <td>False</td>\n",
       "      <td>2021-10-07 03:39:21</td>\n",
       "      <td>Pincode: 560011\\nSPUTNIK V - Dose 1: 100 slots...</td>\n",
       "      <td>NaN</td>\n",
       "      <td>CowinAlertsBot</td>\n",
       "      <td>0</td>\n",
       "      <td>0</td>\n",
       "      <td>False</td>\n",
       "    </tr>\n",
       "    <tr>\n",
       "      <th>206964</th>\n",
       "      <td>1445954643419226114</td>\n",
       "      <td>VaxBLR</td>\n",
       "      <td>Bengaluru, India</td>\n",
       "      <td>Hourly updates on FREE and PAID 18+ and 45+ va...</td>\n",
       "      <td>2021-06-21 08:44:34</td>\n",
       "      <td>26</td>\n",
       "      <td>0</td>\n",
       "      <td>0</td>\n",
       "      <td>False</td>\n",
       "      <td>2021-10-07 03:30:26</td>\n",
       "      <td>18-44 #BBMP #Bengaluru #CovidVaccine Availabil...</td>\n",
       "      <td>['BBMP', 'Bengaluru', 'CovidVaccine', 'COVISHI...</td>\n",
       "      <td>VaxBlr</td>\n",
       "      <td>0</td>\n",
       "      <td>1</td>\n",
       "      <td>False</td>\n",
       "    </tr>\n",
       "    <tr>\n",
       "      <th>206965</th>\n",
       "      <td>1445954599345475592</td>\n",
       "      <td>VaxBLR</td>\n",
       "      <td>Bengaluru, India</td>\n",
       "      <td>Hourly updates on FREE and PAID 18+ and 45+ va...</td>\n",
       "      <td>2021-06-21 08:44:34</td>\n",
       "      <td>26</td>\n",
       "      <td>0</td>\n",
       "      <td>0</td>\n",
       "      <td>False</td>\n",
       "      <td>2021-10-07 03:30:15</td>\n",
       "      <td>18-44 #URBAN #Bengaluru #CovidVaccine Availabi...</td>\n",
       "      <td>['URBAN', 'Bengaluru', 'CovidVaccine', 'COVISH...</td>\n",
       "      <td>VaxBlr</td>\n",
       "      <td>0</td>\n",
       "      <td>0</td>\n",
       "      <td>False</td>\n",
       "    </tr>\n",
       "    <tr>\n",
       "      <th>206966</th>\n",
       "      <td>1445947047052333057</td>\n",
       "      <td>VaxBLR</td>\n",
       "      <td>Bengaluru, India</td>\n",
       "      <td>Hourly updates on FREE and PAID 18+ and 45+ va...</td>\n",
       "      <td>2021-06-21 08:44:34</td>\n",
       "      <td>26</td>\n",
       "      <td>0</td>\n",
       "      <td>0</td>\n",
       "      <td>False</td>\n",
       "      <td>2021-10-07 03:00:15</td>\n",
       "      <td>45+ #URBAN #Bengaluru #CovidVaccine Availabili...</td>\n",
       "      <td>['URBAN', 'Bengaluru', 'CovidVaccine', 'COVISH...</td>\n",
       "      <td>VaxBlr</td>\n",
       "      <td>0</td>\n",
       "      <td>0</td>\n",
       "      <td>False</td>\n",
       "    </tr>\n",
       "  </tbody>\n",
       "</table>\n",
       "<p>206967 rows × 16 columns</p>\n",
       "</div>"
      ],
      "text/plain": [
       "                         id             user_name              user_location  \\\n",
       "0       1340539111971516416            Rachel Roh  La Crescenta-Montrose, CA   \n",
       "1       1338158543359250433           Albert Fong          San Francisco, CA   \n",
       "2       1337858199140118533              eli🇱🇹🇪🇺👌                   Your Bed   \n",
       "3       1337855739918835717         Charles Adler     Vancouver, BC - Canada   \n",
       "4       1337854064604966912  Citizen News Channel                        NaN   \n",
       "...                     ...                   ...                        ...   \n",
       "206962  1445962108055732232            COVID News             Estados Unidos   \n",
       "206963  1445956889305440264     CoWIN Blore 18-44           Bengaluru, India   \n",
       "206964  1445954643419226114                VaxBLR           Bengaluru, India   \n",
       "206965  1445954599345475592                VaxBLR           Bengaluru, India   \n",
       "206966  1445947047052333057                VaxBLR           Bengaluru, India   \n",
       "\n",
       "                                         user_description  \\\n",
       "0       Aggregator of Asian American news; scanning di...   \n",
       "1       Marketing dude, tech geek, heavy metal & '80s ...   \n",
       "2                                          heil, hydra 🖐☺   \n",
       "3       Hosting \"CharlesAdlerTonight\" Global News Radi...   \n",
       "4       Citizen News Channel bringing you an alternati...   \n",
       "...                                                   ...   \n",
       "206962                                News about COVID-19   \n",
       "206963  Get instant alerts for Free/Paid slots in BBMP...   \n",
       "206964  Hourly updates on FREE and PAID 18+ and 45+ va...   \n",
       "206965  Hourly updates on FREE and PAID 18+ and 45+ va...   \n",
       "206966  Hourly updates on FREE and PAID 18+ and 45+ va...   \n",
       "\n",
       "               user_created  user_followers  user_friends  user_favourites  \\\n",
       "0       2009-04-08 17:52:46             405          1692             3247   \n",
       "1       2009-09-21 15:27:30             834           666              178   \n",
       "2       2020-06-25 23:30:28              10            88              155   \n",
       "3       2008-09-10 11:28:53           49165          3933            21853   \n",
       "4       2020-04-23 17:58:42             152           580             1473   \n",
       "...                     ...             ...           ...              ...   \n",
       "206962  2013-06-05 08:52:31            3373          1472              129   \n",
       "206963  2021-06-29 09:33:13              21             0                2   \n",
       "206964  2021-06-21 08:44:34              26             0                0   \n",
       "206965  2021-06-21 08:44:34              26             0                0   \n",
       "206966  2021-06-21 08:44:34              26             0                0   \n",
       "\n",
       "        user_verified                 date  \\\n",
       "0               False  2020-12-20 06:06:44   \n",
       "1               False  2020-12-13 16:27:13   \n",
       "2               False  2020-12-12 20:33:45   \n",
       "3                True  2020-12-12 20:23:59   \n",
       "4               False  2020-12-12 20:17:19   \n",
       "...               ...                  ...   \n",
       "206962          False  2021-10-07 04:00:05   \n",
       "206963          False  2021-10-07 03:39:21   \n",
       "206964          False  2021-10-07 03:30:26   \n",
       "206965          False  2021-10-07 03:30:15   \n",
       "206966          False  2021-10-07 03:00:15   \n",
       "\n",
       "                                                     text  \\\n",
       "0       Same folks said daikon paste could treat a cyt...   \n",
       "1       While the world has been on the wrong side of ...   \n",
       "2       #coronavirus #SputnikV #AstraZeneca #PfizerBio...   \n",
       "3       Facts are immutable, Senator, even when you're...   \n",
       "4       Explain to me again why we need a vaccine @Bor...   \n",
       "...                                                   ...   \n",
       "206962  45+ #URBAN #Bengaluru #CovidVaccine Availabili...   \n",
       "206963  Pincode: 560011\\nSPUTNIK V - Dose 1: 100 slots...   \n",
       "206964  18-44 #BBMP #Bengaluru #CovidVaccine Availabil...   \n",
       "206965  18-44 #URBAN #Bengaluru #CovidVaccine Availabi...   \n",
       "206966  45+ #URBAN #Bengaluru #CovidVaccine Availabili...   \n",
       "\n",
       "                                                 hashtags  \\\n",
       "0                                      ['PfizerBioNTech']   \n",
       "1                                                     NaN   \n",
       "2       ['coronavirus', 'SputnikV', 'AstraZeneca', 'Pf...   \n",
       "3                                                     NaN   \n",
       "4          ['whereareallthesickpeople', 'PfizerBioNTech']   \n",
       "...                                                   ...   \n",
       "206962  ['URBAN', 'Bengaluru', 'CovidVaccine', 'COVISH...   \n",
       "206963                                                NaN   \n",
       "206964  ['BBMP', 'Bengaluru', 'CovidVaccine', 'COVISHI...   \n",
       "206965  ['URBAN', 'Bengaluru', 'CovidVaccine', 'COVISH...   \n",
       "206966  ['URBAN', 'Bengaluru', 'CovidVaccine', 'COVISH...   \n",
       "\n",
       "                     source  retweets  favorites  is_retweet  \n",
       "0       Twitter for Android         0          0       False  \n",
       "1           Twitter Web App         1          1       False  \n",
       "2       Twitter for Android         0          0       False  \n",
       "3           Twitter Web App       446       2129       False  \n",
       "4        Twitter for iPhone         0          0       False  \n",
       "...                     ...       ...        ...         ...  \n",
       "206962    Revive Social App         0          0       False  \n",
       "206963       CowinAlertsBot         0          0       False  \n",
       "206964               VaxBlr         0          1       False  \n",
       "206965               VaxBlr         0          0       False  \n",
       "206966               VaxBlr         0          0       False  \n",
       "\n",
       "[206967 rows x 16 columns]"
      ]
     },
     "execution_count": 3,
     "metadata": {},
     "output_type": "execute_result"
    }
   ],
   "source": [
    "vac_data=pd.read_csv('vaccination_all_tweets.csv')\n",
    "vac_data"
   ]
  },
  {
   "cell_type": "markdown",
   "metadata": {},
   "source": [
    "# Data Cleaning\n",
    "## Formating the date of tweeting"
   ]
  },
  {
   "cell_type": "code",
   "execution_count": 4,
   "metadata": {},
   "outputs": [],
   "source": [
    "#getting ride of the exact time, only keep the date\n",
    "vac_data['just_date']=[x[:7]for x in vac_data['date']]"
   ]
  },
  {
   "cell_type": "code",
   "execution_count": 5,
   "metadata": {
    "scrolled": true
   },
   "outputs": [
    {
     "data": {
      "text/html": [
       "<div>\n",
       "<style scoped>\n",
       "    .dataframe tbody tr th:only-of-type {\n",
       "        vertical-align: middle;\n",
       "    }\n",
       "\n",
       "    .dataframe tbody tr th {\n",
       "        vertical-align: top;\n",
       "    }\n",
       "\n",
       "    .dataframe thead th {\n",
       "        text-align: right;\n",
       "    }\n",
       "</style>\n",
       "<table border=\"1\" class=\"dataframe\">\n",
       "  <thead>\n",
       "    <tr style=\"text-align: right;\">\n",
       "      <th></th>\n",
       "      <th>just_date</th>\n",
       "      <th>user_location</th>\n",
       "      <th>text</th>\n",
       "    </tr>\n",
       "  </thead>\n",
       "  <tbody>\n",
       "    <tr>\n",
       "      <th>0</th>\n",
       "      <td>2020-12</td>\n",
       "      <td>La Crescenta-Montrose, CA</td>\n",
       "      <td>Same folks said daikon paste could treat a cyt...</td>\n",
       "    </tr>\n",
       "    <tr>\n",
       "      <th>1</th>\n",
       "      <td>2020-12</td>\n",
       "      <td>San Francisco, CA</td>\n",
       "      <td>While the world has been on the wrong side of ...</td>\n",
       "    </tr>\n",
       "    <tr>\n",
       "      <th>2</th>\n",
       "      <td>2020-12</td>\n",
       "      <td>Your Bed</td>\n",
       "      <td>#coronavirus #SputnikV #AstraZeneca #PfizerBio...</td>\n",
       "    </tr>\n",
       "    <tr>\n",
       "      <th>3</th>\n",
       "      <td>2020-12</td>\n",
       "      <td>Vancouver, BC - Canada</td>\n",
       "      <td>Facts are immutable, Senator, even when you're...</td>\n",
       "    </tr>\n",
       "    <tr>\n",
       "      <th>4</th>\n",
       "      <td>2020-12</td>\n",
       "      <td>NaN</td>\n",
       "      <td>Explain to me again why we need a vaccine @Bor...</td>\n",
       "    </tr>\n",
       "    <tr>\n",
       "      <th>...</th>\n",
       "      <td>...</td>\n",
       "      <td>...</td>\n",
       "      <td>...</td>\n",
       "    </tr>\n",
       "    <tr>\n",
       "      <th>206962</th>\n",
       "      <td>2021-10</td>\n",
       "      <td>Estados Unidos</td>\n",
       "      <td>45+ #URBAN #Bengaluru #CovidVaccine Availabili...</td>\n",
       "    </tr>\n",
       "    <tr>\n",
       "      <th>206963</th>\n",
       "      <td>2021-10</td>\n",
       "      <td>Bengaluru, India</td>\n",
       "      <td>Pincode: 560011\\nSPUTNIK V - Dose 1: 100 slots...</td>\n",
       "    </tr>\n",
       "    <tr>\n",
       "      <th>206964</th>\n",
       "      <td>2021-10</td>\n",
       "      <td>Bengaluru, India</td>\n",
       "      <td>18-44 #BBMP #Bengaluru #CovidVaccine Availabil...</td>\n",
       "    </tr>\n",
       "    <tr>\n",
       "      <th>206965</th>\n",
       "      <td>2021-10</td>\n",
       "      <td>Bengaluru, India</td>\n",
       "      <td>18-44 #URBAN #Bengaluru #CovidVaccine Availabi...</td>\n",
       "    </tr>\n",
       "    <tr>\n",
       "      <th>206966</th>\n",
       "      <td>2021-10</td>\n",
       "      <td>Bengaluru, India</td>\n",
       "      <td>45+ #URBAN #Bengaluru #CovidVaccine Availabili...</td>\n",
       "    </tr>\n",
       "  </tbody>\n",
       "</table>\n",
       "<p>206967 rows × 3 columns</p>\n",
       "</div>"
      ],
      "text/plain": [
       "       just_date              user_location  \\\n",
       "0        2020-12  La Crescenta-Montrose, CA   \n",
       "1        2020-12          San Francisco, CA   \n",
       "2        2020-12                   Your Bed   \n",
       "3        2020-12     Vancouver, BC - Canada   \n",
       "4        2020-12                        NaN   \n",
       "...          ...                        ...   \n",
       "206962   2021-10             Estados Unidos   \n",
       "206963   2021-10           Bengaluru, India   \n",
       "206964   2021-10           Bengaluru, India   \n",
       "206965   2021-10           Bengaluru, India   \n",
       "206966   2021-10           Bengaluru, India   \n",
       "\n",
       "                                                     text  \n",
       "0       Same folks said daikon paste could treat a cyt...  \n",
       "1       While the world has been on the wrong side of ...  \n",
       "2       #coronavirus #SputnikV #AstraZeneca #PfizerBio...  \n",
       "3       Facts are immutable, Senator, even when you're...  \n",
       "4       Explain to me again why we need a vaccine @Bor...  \n",
       "...                                                   ...  \n",
       "206962  45+ #URBAN #Bengaluru #CovidVaccine Availabili...  \n",
       "206963  Pincode: 560011\\nSPUTNIK V - Dose 1: 100 slots...  \n",
       "206964  18-44 #BBMP #Bengaluru #CovidVaccine Availabil...  \n",
       "206965  18-44 #URBAN #Bengaluru #CovidVaccine Availabi...  \n",
       "206966  45+ #URBAN #Bengaluru #CovidVaccine Availabili...  \n",
       "\n",
       "[206967 rows x 3 columns]"
      ]
     },
     "execution_count": 5,
     "metadata": {},
     "output_type": "execute_result"
    }
   ],
   "source": [
    "#Puting the useful information into a new dataframe\n",
    "df= vac_data[['just_date','user_location','text']]\n",
    "df"
   ]
  },
  {
   "cell_type": "markdown",
   "metadata": {},
   "source": [
    "## Get the tweets in US by the user location"
   ]
  },
  {
   "cell_type": "code",
   "execution_count": 6,
   "metadata": {},
   "outputs": [],
   "source": [
    "us_loc=[\"US\",\"USA\",\"America\",\"The United States\",\"United States\"]"
   ]
  },
  {
   "cell_type": "code",
   "execution_count": 7,
   "metadata": {},
   "outputs": [],
   "source": [
    "gc = geonamescache.GeonamesCache()"
   ]
  },
  {
   "cell_type": "code",
   "execution_count": 8,
   "metadata": {},
   "outputs": [],
   "source": [
    "states=gc.get_us_states()"
   ]
  },
  {
   "cell_type": "code",
   "execution_count": 9,
   "metadata": {},
   "outputs": [],
   "source": [
    "StaAbb=[]\n",
    "StaNam=[]\n",
    "for key in states.keys():\n",
    "    StaAbb.append(states[key]['code'])\n",
    "    StaNam.append(states[key]['name'])"
   ]
  },
  {
   "cell_type": "code",
   "execution_count": 10,
   "metadata": {},
   "outputs": [
    {
     "data": {
      "text/plain": [
       "51"
      ]
     },
     "execution_count": 10,
     "metadata": {},
     "output_type": "execute_result"
    }
   ],
   "source": [
    "len(StaAbb)\n",
    "len(StaNam)"
   ]
  },
  {
   "cell_type": "code",
   "execution_count": 11,
   "metadata": {},
   "outputs": [],
   "source": [
    "l=[]\n",
    "for i in range(0,51):\n",
    "    for j in range(0,len(df)):\n",
    "        pattern1=re.compile(f'(.*){StaAbb[i]}$')\n",
    "        pattern2=re.compile(f'^{StaNam[i]}(.*)')\n",
    "        res1=pattern1.match(str(df['user_location'][j]))\n",
    "        res2=pattern2.match(str(df['user_location'][j]))\n",
    "        if res1!=None or res2!=None:\n",
    "            l.append(j)"
   ]
  },
  {
   "cell_type": "code",
   "execution_count": 12,
   "metadata": {},
   "outputs": [
    {
     "data": {
      "text/html": [
       "<div>\n",
       "<style scoped>\n",
       "    .dataframe tbody tr th:only-of-type {\n",
       "        vertical-align: middle;\n",
       "    }\n",
       "\n",
       "    .dataframe tbody tr th {\n",
       "        vertical-align: top;\n",
       "    }\n",
       "\n",
       "    .dataframe thead th {\n",
       "        text-align: right;\n",
       "    }\n",
       "</style>\n",
       "<table border=\"1\" class=\"dataframe\">\n",
       "  <thead>\n",
       "    <tr style=\"text-align: right;\">\n",
       "      <th></th>\n",
       "      <th>just_date</th>\n",
       "      <th>user_location</th>\n",
       "      <th>text</th>\n",
       "    </tr>\n",
       "  </thead>\n",
       "  <tbody>\n",
       "    <tr>\n",
       "      <th>0</th>\n",
       "      <td>2021-02</td>\n",
       "      <td>Anchorage, AK</td>\n",
       "      <td>Vaccine update:\\nAfter sleeping awhile I do fe...</td>\n",
       "    </tr>\n",
       "    <tr>\n",
       "      <th>1</th>\n",
       "      <td>2021-02</td>\n",
       "      <td>Alaska, USA</td>\n",
       "      <td>My wife’s in total misery after her second #Mo...</td>\n",
       "    </tr>\n",
       "    <tr>\n",
       "      <th>2</th>\n",
       "      <td>2021-02</td>\n",
       "      <td>Alaska, USA</td>\n",
       "      <td>\"What you should know about vaccines\" #Pfizer ...</td>\n",
       "    </tr>\n",
       "    <tr>\n",
       "      <th>3</th>\n",
       "      <td>2021-02</td>\n",
       "      <td>Eagle River, AK</td>\n",
       "      <td>Well I did it, I just took my first shot of th...</td>\n",
       "    </tr>\n",
       "    <tr>\n",
       "      <th>4</th>\n",
       "      <td>2021-03</td>\n",
       "      <td>Anchorage, AK</td>\n",
       "      <td>Today? Today I got to vaccinate. Today was a v...</td>\n",
       "    </tr>\n",
       "    <tr>\n",
       "      <th>...</th>\n",
       "      <td>...</td>\n",
       "      <td>...</td>\n",
       "      <td>...</td>\n",
       "    </tr>\n",
       "    <tr>\n",
       "      <th>21439</th>\n",
       "      <td>2021-10</td>\n",
       "      <td>United States</td>\n",
       "      <td>@mikalche @manpreetkailon Bec it is widely rep...</td>\n",
       "    </tr>\n",
       "    <tr>\n",
       "      <th>21440</th>\n",
       "      <td>2021-10</td>\n",
       "      <td>United States</td>\n",
       "      <td>@DrTedros So why are you delaying approving ev...</td>\n",
       "    </tr>\n",
       "    <tr>\n",
       "      <th>21441</th>\n",
       "      <td>2021-10</td>\n",
       "      <td>United States</td>\n",
       "      <td>@mikalche @manpreetkailon Your response is as ...</td>\n",
       "    </tr>\n",
       "    <tr>\n",
       "      <th>21442</th>\n",
       "      <td>2021-10</td>\n",
       "      <td>United States</td>\n",
       "      <td>We are hearing #covaxin approval coming \"soon\"...</td>\n",
       "    </tr>\n",
       "    <tr>\n",
       "      <th>21443</th>\n",
       "      <td>2021-10</td>\n",
       "      <td>United States</td>\n",
       "      <td>#Covaxin People died from Corona, Oxygen short...</td>\n",
       "    </tr>\n",
       "  </tbody>\n",
       "</table>\n",
       "<p>21444 rows × 3 columns</p>\n",
       "</div>"
      ],
      "text/plain": [
       "      just_date    user_location  \\\n",
       "0       2021-02    Anchorage, AK   \n",
       "1       2021-02      Alaska, USA   \n",
       "2       2021-02      Alaska, USA   \n",
       "3       2021-02  Eagle River, AK   \n",
       "4       2021-03    Anchorage, AK   \n",
       "...         ...              ...   \n",
       "21439   2021-10    United States   \n",
       "21440   2021-10    United States   \n",
       "21441   2021-10    United States   \n",
       "21442   2021-10    United States   \n",
       "21443   2021-10    United States   \n",
       "\n",
       "                                                    text  \n",
       "0      Vaccine update:\\nAfter sleeping awhile I do fe...  \n",
       "1      My wife’s in total misery after her second #Mo...  \n",
       "2      \"What you should know about vaccines\" #Pfizer ...  \n",
       "3      Well I did it, I just took my first shot of th...  \n",
       "4      Today? Today I got to vaccinate. Today was a v...  \n",
       "...                                                  ...  \n",
       "21439  @mikalche @manpreetkailon Bec it is widely rep...  \n",
       "21440  @DrTedros So why are you delaying approving ev...  \n",
       "21441  @mikalche @manpreetkailon Your response is as ...  \n",
       "21442  We are hearing #covaxin approval coming \"soon\"...  \n",
       "21443  #Covaxin People died from Corona, Oxygen short...  \n",
       "\n",
       "[21444 rows x 3 columns]"
      ]
     },
     "execution_count": 12,
     "metadata": {},
     "output_type": "execute_result"
    }
   ],
   "source": [
    "temp=df.iloc[l]\n",
    "us_tweets=temp.append(df.loc[df['user_location'].isin(us_loc)])\n",
    "us_tweets = us_tweets.reset_index(drop=True)\n",
    "us_tweets"
   ]
  },
  {
   "cell_type": "code",
   "execution_count": 15,
   "metadata": {},
   "outputs": [],
   "source": [
    "def combine_text(list_of_text):\n",
    "    '''Takes a list of text and combines them into one large chunk of text.'''\n",
    "    combined_text = ' '.join(list_of_text)\n",
    "    return combined_text"
   ]
  },
  {
   "cell_type": "code",
   "execution_count": 16,
   "metadata": {},
   "outputs": [],
   "source": [
    "def find_index(state,ab):\n",
    "    i=[]\n",
    "    for a in range(0,len(us_tweets)):\n",
    "        pattern1=re.compile(f'(.*){ab}$')\n",
    "        pattern2=re.compile(f'^{state}(.*)')\n",
    "        res1=pattern1.match(str(us_tweets['user_location'][a]))\n",
    "        res2=pattern2.match(str(us_tweets['user_location'][a]))\n",
    "        if res1!=None or res2!=None:\n",
    "            i.append(a)\n",
    "    return(i)"
   ]
  },
  {
   "cell_type": "markdown",
   "metadata": {},
   "source": [
    "## Arrange tweets by states"
   ]
  },
  {
   "cell_type": "code",
   "execution_count": 17,
   "metadata": {},
   "outputs": [],
   "source": [
    "M=[]\n",
    "text=[]\n",
    "for i in range(0,51):\n",
    "    M.append(find_index(StaNam[i], StaAbb[i]))\n",
    "    Temp_state=us_tweets.iloc[M[i]]\n",
    "    text.append(combine_text(Temp_state['text']))"
   ]
  },
  {
   "cell_type": "code",
   "execution_count": 18,
   "metadata": {},
   "outputs": [
    {
     "data": {
      "text/html": [
       "<div>\n",
       "<style scoped>\n",
       "    .dataframe tbody tr th:only-of-type {\n",
       "        vertical-align: middle;\n",
       "    }\n",
       "\n",
       "    .dataframe tbody tr th {\n",
       "        vertical-align: top;\n",
       "    }\n",
       "\n",
       "    .dataframe thead th {\n",
       "        text-align: right;\n",
       "    }\n",
       "</style>\n",
       "<table border=\"1\" class=\"dataframe\">\n",
       "  <thead>\n",
       "    <tr style=\"text-align: right;\">\n",
       "      <th></th>\n",
       "      <th>states_name</th>\n",
       "      <th>states_abb</th>\n",
       "      <th>total_text</th>\n",
       "    </tr>\n",
       "  </thead>\n",
       "  <tbody>\n",
       "    <tr>\n",
       "      <th>0</th>\n",
       "      <td>Alaska</td>\n",
       "      <td>AK</td>\n",
       "      <td>Vaccine update:\\nAfter sleeping awhile I do fe...</td>\n",
       "    </tr>\n",
       "    <tr>\n",
       "      <th>1</th>\n",
       "      <td>Alabama</td>\n",
       "      <td>AL</td>\n",
       "      <td>Got the COVID vaccine today. This is amazing. ...</td>\n",
       "    </tr>\n",
       "    <tr>\n",
       "      <th>2</th>\n",
       "      <td>Arkansas</td>\n",
       "      <td>AR</td>\n",
       "      <td>@RameshRaoAKS @NajibRazak @ahmadmaslan @KKMPut...</td>\n",
       "    </tr>\n",
       "    <tr>\n",
       "      <th>3</th>\n",
       "      <td>Arizona</td>\n",
       "      <td>AZ</td>\n",
       "      <td>Is it wiser to get the vaccine now and risk th...</td>\n",
       "    </tr>\n",
       "    <tr>\n",
       "      <th>4</th>\n",
       "      <td>California</td>\n",
       "      <td>CA</td>\n",
       "      <td>Same folks said daikon paste could treat a cyt...</td>\n",
       "    </tr>\n",
       "  </tbody>\n",
       "</table>\n",
       "</div>"
      ],
      "text/plain": [
       "  states_name states_abb                                         total_text\n",
       "0      Alaska         AK  Vaccine update:\\nAfter sleeping awhile I do fe...\n",
       "1     Alabama         AL  Got the COVID vaccine today. This is amazing. ...\n",
       "2    Arkansas         AR  @RameshRaoAKS @NajibRazak @ahmadmaslan @KKMPut...\n",
       "3     Arizona         AZ  Is it wiser to get the vaccine now and risk th...\n",
       "4  California         CA  Same folks said daikon paste could treat a cyt..."
      ]
     },
     "execution_count": 18,
     "metadata": {},
     "output_type": "execute_result"
    }
   ],
   "source": [
    "data={'states_name':StaNam,'states_abb':StaAbb,'total_text':text}\n",
    "df_states=pd.DataFrame(data)\n",
    "df_states.head()"
   ]
  },
  {
   "cell_type": "markdown",
   "metadata": {},
   "source": [
    "## Arrange tweets by the time sended"
   ]
  },
  {
   "cell_type": "code",
   "execution_count": 19,
   "metadata": {},
   "outputs": [],
   "source": [
    "us_tweets['just_date'] = pd.to_datetime(us_tweets['just_date'],format=\"%Y-%m\")"
   ]
  },
  {
   "cell_type": "code",
   "execution_count": 20,
   "metadata": {},
   "outputs": [],
   "source": [
    "grouped=us_tweets.groupby('just_date')\n",
    "df_times=grouped.sum().drop(columns=['user_location'])\n",
    "df_times=df_times.reset_index()"
   ]
  },
  {
   "cell_type": "code",
   "execution_count": 21,
   "metadata": {},
   "outputs": [
    {
     "data": {
      "text/html": [
       "<div>\n",
       "<style scoped>\n",
       "    .dataframe tbody tr th:only-of-type {\n",
       "        vertical-align: middle;\n",
       "    }\n",
       "\n",
       "    .dataframe tbody tr th {\n",
       "        vertical-align: top;\n",
       "    }\n",
       "\n",
       "    .dataframe thead th {\n",
       "        text-align: right;\n",
       "    }\n",
       "</style>\n",
       "<table border=\"1\" class=\"dataframe\">\n",
       "  <thead>\n",
       "    <tr style=\"text-align: right;\">\n",
       "      <th></th>\n",
       "      <th>just_date</th>\n",
       "      <th>text</th>\n",
       "    </tr>\n",
       "  </thead>\n",
       "  <tbody>\n",
       "    <tr>\n",
       "      <th>0</th>\n",
       "      <td>2020-12-01</td>\n",
       "      <td>Got the COVID vaccine today. This is amazing. ...</td>\n",
       "    </tr>\n",
       "    <tr>\n",
       "      <th>1</th>\n",
       "      <td>2021-01-01</td>\n",
       "      <td>Dr Fun's I Feel Good - My effort at a PSA, ple...</td>\n",
       "    </tr>\n",
       "    <tr>\n",
       "      <th>2</th>\n",
       "      <td>2021-02-01</td>\n",
       "      <td>Vaccine update:\\nAfter sleeping awhile I do fe...</td>\n",
       "    </tr>\n",
       "    <tr>\n",
       "      <th>3</th>\n",
       "      <td>2021-03-01</td>\n",
       "      <td>Today? Today I got to vaccinate. Today was a v...</td>\n",
       "    </tr>\n",
       "    <tr>\n",
       "      <th>4</th>\n",
       "      <td>2021-04-01</td>\n",
       "      <td>Just got my second dose of the #COVID19 vaccin...</td>\n",
       "    </tr>\n",
       "    <tr>\n",
       "      <th>5</th>\n",
       "      <td>2021-05-01</td>\n",
       "      <td>Difference between Inactivated #vaccination (#...</td>\n",
       "    </tr>\n",
       "    <tr>\n",
       "      <th>6</th>\n",
       "      <td>2021-06-01</td>\n",
       "      <td>This is the last damn vaccine I put in my body...</td>\n",
       "    </tr>\n",
       "    <tr>\n",
       "      <th>7</th>\n",
       "      <td>2021-07-01</td>\n",
       "      <td>@TheRadicalSanta I am proudly fully Vaccinated...</td>\n",
       "    </tr>\n",
       "    <tr>\n",
       "      <th>8</th>\n",
       "      <td>2021-08-01</td>\n",
       "      <td>got my 3rd dose today⚡️\\n#Moderna https://t.co...</td>\n",
       "    </tr>\n",
       "    <tr>\n",
       "      <th>9</th>\n",
       "      <td>2021-09-01</td>\n",
       "      <td>CDC shares 8 new charts that show how powerful...</td>\n",
       "    </tr>\n",
       "    <tr>\n",
       "      <th>10</th>\n",
       "      <td>2021-10-01</td>\n",
       "      <td>Hard to fathom why #COVAXIN is still waiting f...</td>\n",
       "    </tr>\n",
       "  </tbody>\n",
       "</table>\n",
       "</div>"
      ],
      "text/plain": [
       "    just_date                                               text\n",
       "0  2020-12-01  Got the COVID vaccine today. This is amazing. ...\n",
       "1  2021-01-01  Dr Fun's I Feel Good - My effort at a PSA, ple...\n",
       "2  2021-02-01  Vaccine update:\\nAfter sleeping awhile I do fe...\n",
       "3  2021-03-01  Today? Today I got to vaccinate. Today was a v...\n",
       "4  2021-04-01  Just got my second dose of the #COVID19 vaccin...\n",
       "5  2021-05-01  Difference between Inactivated #vaccination (#...\n",
       "6  2021-06-01  This is the last damn vaccine I put in my body...\n",
       "7  2021-07-01  @TheRadicalSanta I am proudly fully Vaccinated...\n",
       "8  2021-08-01  got my 3rd dose today⚡️\\n#Moderna https://t.co...\n",
       "9  2021-09-01  CDC shares 8 new charts that show how powerful...\n",
       "10 2021-10-01  Hard to fathom why #COVAXIN is still waiting f..."
      ]
     },
     "execution_count": 21,
     "metadata": {},
     "output_type": "execute_result"
    }
   ],
   "source": [
    "df_times"
   ]
  },
  {
   "cell_type": "markdown",
   "metadata": {},
   "source": [
    "## Data Cleaning"
   ]
  },
  {
   "cell_type": "code",
   "execution_count": 22,
   "metadata": {},
   "outputs": [],
   "source": [
    "# Apply a first round of text cleaning techniques \n",
    "STOPWORDS = set(stopwords.words('english'))\n",
    "\n",
    "def clean_text(text):\n",
    "#Make text lowercase, remove stopwords, remove punctuation and remove emoji, remove links, remove\"\\n\",remove #hashtags\n",
    "    text = text.lower()\n",
    "    text = re.sub(r'https?:\\/\\/\\S*', '', text, flags=re.MULTILINE)\n",
    "    text = re.sub('[%s]' % re.escape(string.punctuation), '', text)\n",
    "    text = re.sub('[''\"\"…]', '', text)\n",
    "    text = re.sub('\\n', '', text)\n",
    "    text = replace(text,'')\n",
    "    text = \" \".join([word for word in str(text).split()if word not in STOPWORDS])\n",
    "    return text"
   ]
  },
  {
   "cell_type": "code",
   "execution_count": 23,
   "metadata": {},
   "outputs": [
    {
     "data": {
      "text/html": [
       "<div>\n",
       "<style scoped>\n",
       "    .dataframe tbody tr th:only-of-type {\n",
       "        vertical-align: middle;\n",
       "    }\n",
       "\n",
       "    .dataframe tbody tr th {\n",
       "        vertical-align: top;\n",
       "    }\n",
       "\n",
       "    .dataframe thead th {\n",
       "        text-align: right;\n",
       "    }\n",
       "</style>\n",
       "<table border=\"1\" class=\"dataframe\">\n",
       "  <thead>\n",
       "    <tr style=\"text-align: right;\">\n",
       "      <th></th>\n",
       "      <th>states_name</th>\n",
       "      <th>states_abb</th>\n",
       "      <th>total_text</th>\n",
       "    </tr>\n",
       "  </thead>\n",
       "  <tbody>\n",
       "    <tr>\n",
       "      <th>0</th>\n",
       "      <td>Alaska</td>\n",
       "      <td>AK</td>\n",
       "      <td>vaccine updateafter sleeping awhile feel bit b...</td>\n",
       "    </tr>\n",
       "    <tr>\n",
       "      <th>1</th>\n",
       "      <td>Alabama</td>\n",
       "      <td>AL</td>\n",
       "      <td>got covid vaccine today amazing happy able get...</td>\n",
       "    </tr>\n",
       "    <tr>\n",
       "      <th>2</th>\n",
       "      <td>Arkansas</td>\n",
       "      <td>AR</td>\n",
       "      <td>rameshraoaks najibrazak ahmadmaslan kkmputraja...</td>\n",
       "    </tr>\n",
       "    <tr>\n",
       "      <th>3</th>\n",
       "      <td>Arizona</td>\n",
       "      <td>AZ</td>\n",
       "      <td>wiser get vaccine risk complications new type ...</td>\n",
       "    </tr>\n",
       "    <tr>\n",
       "      <th>4</th>\n",
       "      <td>California</td>\n",
       "      <td>CA</td>\n",
       "      <td>folks said daikon paste could treat cytokine s...</td>\n",
       "    </tr>\n",
       "  </tbody>\n",
       "</table>\n",
       "</div>"
      ],
      "text/plain": [
       "  states_name states_abb                                         total_text\n",
       "0      Alaska         AK  vaccine updateafter sleeping awhile feel bit b...\n",
       "1     Alabama         AL  got covid vaccine today amazing happy able get...\n",
       "2    Arkansas         AR  rameshraoaks najibrazak ahmadmaslan kkmputraja...\n",
       "3     Arizona         AZ  wiser get vaccine risk complications new type ...\n",
       "4  California         CA  folks said daikon paste could treat cytokine s..."
      ]
     },
     "execution_count": 23,
     "metadata": {},
     "output_type": "execute_result"
    }
   ],
   "source": [
    "df_states.total_text = df_states.total_text.apply(clean_text)\n",
    "df_states.head()"
   ]
  },
  {
   "cell_type": "code",
   "execution_count": 24,
   "metadata": {},
   "outputs": [
    {
     "data": {
      "text/html": [
       "<div>\n",
       "<style scoped>\n",
       "    .dataframe tbody tr th:only-of-type {\n",
       "        vertical-align: middle;\n",
       "    }\n",
       "\n",
       "    .dataframe tbody tr th {\n",
       "        vertical-align: top;\n",
       "    }\n",
       "\n",
       "    .dataframe thead th {\n",
       "        text-align: right;\n",
       "    }\n",
       "</style>\n",
       "<table border=\"1\" class=\"dataframe\">\n",
       "  <thead>\n",
       "    <tr style=\"text-align: right;\">\n",
       "      <th></th>\n",
       "      <th>just_date</th>\n",
       "      <th>text</th>\n",
       "    </tr>\n",
       "  </thead>\n",
       "  <tbody>\n",
       "    <tr>\n",
       "      <th>0</th>\n",
       "      <td>2020-12-01</td>\n",
       "      <td>got covid vaccine today amazing happy able get...</td>\n",
       "    </tr>\n",
       "    <tr>\n",
       "      <th>1</th>\n",
       "      <td>2021-01-01</td>\n",
       "      <td>dr funs feel good effort psa please share get ...</td>\n",
       "    </tr>\n",
       "    <tr>\n",
       "      <th>2</th>\n",
       "      <td>2021-02-01</td>\n",
       "      <td>vaccine updateafter sleeping awhile feel bit b...</td>\n",
       "    </tr>\n",
       "    <tr>\n",
       "      <th>3</th>\n",
       "      <td>2021-03-01</td>\n",
       "      <td>today today got vaccinate today good day covid...</td>\n",
       "    </tr>\n",
       "    <tr>\n",
       "      <th>4</th>\n",
       "      <td>2021-04-01</td>\n",
       "      <td>got second dose covid19 vaccine thank everyone...</td>\n",
       "    </tr>\n",
       "  </tbody>\n",
       "</table>\n",
       "</div>"
      ],
      "text/plain": [
       "   just_date                                               text\n",
       "0 2020-12-01  got covid vaccine today amazing happy able get...\n",
       "1 2021-01-01  dr funs feel good effort psa please share get ...\n",
       "2 2021-02-01  vaccine updateafter sleeping awhile feel bit b...\n",
       "3 2021-03-01  today today got vaccinate today good day covid...\n",
       "4 2021-04-01  got second dose covid19 vaccine thank everyone..."
      ]
     },
     "execution_count": 24,
     "metadata": {},
     "output_type": "execute_result"
    }
   ],
   "source": [
    "df_times.text = df_times.text.apply(clean_text)\n",
    "df_times.head()"
   ]
  },
  {
   "cell_type": "markdown",
   "metadata": {},
   "source": [
    "## Sentiment Analysis"
   ]
  },
  {
   "cell_type": "code",
   "execution_count": 25,
   "metadata": {
    "scrolled": true
   },
   "outputs": [
    {
     "data": {
      "text/html": [
       "<div>\n",
       "<style scoped>\n",
       "    .dataframe tbody tr th:only-of-type {\n",
       "        vertical-align: middle;\n",
       "    }\n",
       "\n",
       "    .dataframe tbody tr th {\n",
       "        vertical-align: top;\n",
       "    }\n",
       "\n",
       "    .dataframe thead th {\n",
       "        text-align: right;\n",
       "    }\n",
       "</style>\n",
       "<table border=\"1\" class=\"dataframe\">\n",
       "  <thead>\n",
       "    <tr style=\"text-align: right;\">\n",
       "      <th></th>\n",
       "      <th>states_name</th>\n",
       "      <th>states_abb</th>\n",
       "      <th>total_text</th>\n",
       "      <th>polarity</th>\n",
       "      <th>subjectivity</th>\n",
       "    </tr>\n",
       "  </thead>\n",
       "  <tbody>\n",
       "    <tr>\n",
       "      <th>0</th>\n",
       "      <td>Alaska</td>\n",
       "      <td>AK</td>\n",
       "      <td>vaccine updateafter sleeping awhile feel bit b...</td>\n",
       "      <td>0.163742</td>\n",
       "      <td>0.412858</td>\n",
       "    </tr>\n",
       "    <tr>\n",
       "      <th>1</th>\n",
       "      <td>Alabama</td>\n",
       "      <td>AL</td>\n",
       "      <td>got covid vaccine today amazing happy able get...</td>\n",
       "      <td>0.128312</td>\n",
       "      <td>0.460611</td>\n",
       "    </tr>\n",
       "    <tr>\n",
       "      <th>2</th>\n",
       "      <td>Arkansas</td>\n",
       "      <td>AR</td>\n",
       "      <td>rameshraoaks najibrazak ahmadmaslan kkmputraja...</td>\n",
       "      <td>0.128297</td>\n",
       "      <td>0.367076</td>\n",
       "    </tr>\n",
       "    <tr>\n",
       "      <th>3</th>\n",
       "      <td>Arizona</td>\n",
       "      <td>AZ</td>\n",
       "      <td>wiser get vaccine risk complications new type ...</td>\n",
       "      <td>0.116044</td>\n",
       "      <td>0.407682</td>\n",
       "    </tr>\n",
       "    <tr>\n",
       "      <th>4</th>\n",
       "      <td>California</td>\n",
       "      <td>CA</td>\n",
       "      <td>folks said daikon paste could treat cytokine s...</td>\n",
       "      <td>0.142226</td>\n",
       "      <td>0.442834</td>\n",
       "    </tr>\n",
       "  </tbody>\n",
       "</table>\n",
       "</div>"
      ],
      "text/plain": [
       "  states_name states_abb                                         total_text  \\\n",
       "0      Alaska         AK  vaccine updateafter sleeping awhile feel bit b...   \n",
       "1     Alabama         AL  got covid vaccine today amazing happy able get...   \n",
       "2    Arkansas         AR  rameshraoaks najibrazak ahmadmaslan kkmputraja...   \n",
       "3     Arizona         AZ  wiser get vaccine risk complications new type ...   \n",
       "4  California         CA  folks said daikon paste could treat cytokine s...   \n",
       "\n",
       "   polarity  subjectivity  \n",
       "0  0.163742      0.412858  \n",
       "1  0.128312      0.460611  \n",
       "2  0.128297      0.367076  \n",
       "3  0.116044      0.407682  \n",
       "4  0.142226      0.442834  "
      ]
     },
     "execution_count": 25,
     "metadata": {},
     "output_type": "execute_result"
    }
   ],
   "source": [
    "pol = lambda x: TextBlob(x).sentiment.polarity\n",
    "sub = lambda x: TextBlob(x).sentiment.subjectivity\n",
    "\n",
    "df_states['polarity'] = df_states['total_text'].apply(pol)\n",
    "df_states['subjectivity'] = df_states['total_text'].apply(sub)\n",
    "df_states.head()"
   ]
  },
  {
   "cell_type": "code",
   "execution_count": 26,
   "metadata": {},
   "outputs": [
    {
     "data": {
      "text/plain": [
       "Sentiment(classification='pos', p_pos=0.9999999946042104, p_neg=5.395800809813187e-09)"
      ]
     },
     "execution_count": 26,
     "metadata": {},
     "output_type": "execute_result"
    }
   ],
   "source": [
    "text=df_states['total_text'][0]\n",
    "bayes=TextBlob(text, analyzer=NaiveBayesAnalyzer())\n",
    "bayes.sentiment"
   ]
  },
  {
   "cell_type": "code",
   "execution_count": null,
   "metadata": {},
   "outputs": [],
   "source": [
    "# create USA map and demonstrate the data on the map\n",
    "fig = go.Figure(data = go.Choropleth(locations=df_states['states_abb'],\n",
    "                                     z=df_states['polarity'].astype(float),\n",
    "                                     locationmode = 'USA-states',\n",
    "                                     colorscale ='Blues',\n",
    "                                     colorbar_title = \"people's attitudes toward vaccine\"))"
   ]
  },
  {
   "cell_type": "code",
   "execution_count": 27,
   "metadata": {},
   "outputs": [
    {
     "data": {
      "text/plain": [
       "Sentiment(polarity=0.16374158249158252, subjectivity=0.4128577441077441)"
      ]
     },
     "execution_count": 27,
     "metadata": {},
     "output_type": "execute_result"
    }
   ],
   "source": [
    "fig.update_layout(title_text = \"public's attitude\",geo_scope='usa')"
   ]
  },
  {
   "cell_type": "code",
   "execution_count": 43,
   "metadata": {},
   "outputs": [
    {
     "data": {
      "text/html": [
       "<div>\n",
       "<style scoped>\n",
       "    .dataframe tbody tr th:only-of-type {\n",
       "        vertical-align: middle;\n",
       "    }\n",
       "\n",
       "    .dataframe tbody tr th {\n",
       "        vertical-align: top;\n",
       "    }\n",
       "\n",
       "    .dataframe thead th {\n",
       "        text-align: right;\n",
       "    }\n",
       "</style>\n",
       "<table border=\"1\" class=\"dataframe\">\n",
       "  <thead>\n",
       "    <tr style=\"text-align: right;\">\n",
       "      <th></th>\n",
       "      <th>just_date</th>\n",
       "      <th>text</th>\n",
       "      <th>polarity</th>\n",
       "      <th>subjectivity</th>\n",
       "    </tr>\n",
       "  </thead>\n",
       "  <tbody>\n",
       "    <tr>\n",
       "      <th>0</th>\n",
       "      <td>2020-12-01</td>\n",
       "      <td>got covid vaccine today amazing happy able get...</td>\n",
       "      <td>0.209711</td>\n",
       "      <td>0.446345</td>\n",
       "    </tr>\n",
       "    <tr>\n",
       "      <th>1</th>\n",
       "      <td>2021-01-01</td>\n",
       "      <td>dr funs feel good effort psa please share get ...</td>\n",
       "      <td>0.163955</td>\n",
       "      <td>0.438721</td>\n",
       "    </tr>\n",
       "    <tr>\n",
       "      <th>2</th>\n",
       "      <td>2021-02-01</td>\n",
       "      <td>vaccine updateafter sleeping awhile feel bit b...</td>\n",
       "      <td>0.137635</td>\n",
       "      <td>0.399803</td>\n",
       "    </tr>\n",
       "    <tr>\n",
       "      <th>3</th>\n",
       "      <td>2021-03-01</td>\n",
       "      <td>today today got vaccinate today good day covid...</td>\n",
       "      <td>0.149961</td>\n",
       "      <td>0.417463</td>\n",
       "    </tr>\n",
       "    <tr>\n",
       "      <th>4</th>\n",
       "      <td>2021-04-01</td>\n",
       "      <td>got second dose covid19 vaccine thank everyone...</td>\n",
       "      <td>0.122344</td>\n",
       "      <td>0.404885</td>\n",
       "    </tr>\n",
       "    <tr>\n",
       "      <th>5</th>\n",
       "      <td>2021-05-01</td>\n",
       "      <td>difference inactivated vaccination sinovac sin...</td>\n",
       "      <td>0.122112</td>\n",
       "      <td>0.408330</td>\n",
       "    </tr>\n",
       "    <tr>\n",
       "      <th>6</th>\n",
       "      <td>2021-06-01</td>\n",
       "      <td>last damn vaccine put body body handle ok wors...</td>\n",
       "      <td>0.106013</td>\n",
       "      <td>0.436178</td>\n",
       "    </tr>\n",
       "    <tr>\n",
       "      <th>7</th>\n",
       "      <td>2021-07-01</td>\n",
       "      <td>theradicalsanta proudly fully vaccinated moder...</td>\n",
       "      <td>0.124130</td>\n",
       "      <td>0.461631</td>\n",
       "    </tr>\n",
       "    <tr>\n",
       "      <th>8</th>\n",
       "      <td>2021-08-01</td>\n",
       "      <td>got 3rd dose today️moderna got moderna booster...</td>\n",
       "      <td>0.174267</td>\n",
       "      <td>0.457704</td>\n",
       "    </tr>\n",
       "    <tr>\n",
       "      <th>9</th>\n",
       "      <td>2021-09-01</td>\n",
       "      <td>cdc shares 8 new charts show powerful pfizers ...</td>\n",
       "      <td>0.143636</td>\n",
       "      <td>0.463664</td>\n",
       "    </tr>\n",
       "    <tr>\n",
       "      <th>10</th>\n",
       "      <td>2021-10-01</td>\n",
       "      <td>hard fathom covaxin still waiting approval app...</td>\n",
       "      <td>0.096964</td>\n",
       "      <td>0.450418</td>\n",
       "    </tr>\n",
       "  </tbody>\n",
       "</table>\n",
       "</div>"
      ],
      "text/plain": [
       "    just_date                                               text  polarity  \\\n",
       "0  2020-12-01  got covid vaccine today amazing happy able get...  0.209711   \n",
       "1  2021-01-01  dr funs feel good effort psa please share get ...  0.163955   \n",
       "2  2021-02-01  vaccine updateafter sleeping awhile feel bit b...  0.137635   \n",
       "3  2021-03-01  today today got vaccinate today good day covid...  0.149961   \n",
       "4  2021-04-01  got second dose covid19 vaccine thank everyone...  0.122344   \n",
       "5  2021-05-01  difference inactivated vaccination sinovac sin...  0.122112   \n",
       "6  2021-06-01  last damn vaccine put body body handle ok wors...  0.106013   \n",
       "7  2021-07-01  theradicalsanta proudly fully vaccinated moder...  0.124130   \n",
       "8  2021-08-01  got 3rd dose today️moderna got moderna booster...  0.174267   \n",
       "9  2021-09-01  cdc shares 8 new charts show powerful pfizers ...  0.143636   \n",
       "10 2021-10-01  hard fathom covaxin still waiting approval app...  0.096964   \n",
       "\n",
       "    subjectivity  \n",
       "0       0.446345  \n",
       "1       0.438721  \n",
       "2       0.399803  \n",
       "3       0.417463  \n",
       "4       0.404885  \n",
       "5       0.408330  \n",
       "6       0.436178  \n",
       "7       0.461631  \n",
       "8       0.457704  \n",
       "9       0.463664  \n",
       "10      0.450418  "
      ]
     },
     "execution_count": 43,
     "metadata": {},
     "output_type": "execute_result"
    }
   ],
   "source": [
    "df_times['polarity'] = df_times['text'].apply(pol)\n",
    "df_times['subjectivity'] = df_times['text'].apply(sub)\n",
    "df_times"
   ]
  },
  {
   "cell_type": "code",
   "execution_count": 74,
   "metadata": {},
   "outputs": [],
   "source": [
    "X=np.array(range(1,12)).reshape(-1, 1)\n",
    "y1 = df_times['polarity']\n",
    "y2 = df_times['subjectivity']\n",
    "\n",
    "reg1 = LinearRegression()\n",
    "trend_pol = reg1.fit(X, y1)\n",
    "reg2 = LinearRegression()\n",
    "trend_sub = reg2.fit(X, y2)"
   ]
  },
  {
   "cell_type": "code",
   "execution_count": 75,
   "metadata": {},
   "outputs": [
    {
     "data": {
      "text/plain": [
       "(0.17387232560160054, array([-0.00548284]))"
      ]
     },
     "execution_count": 75,
     "metadata": {},
     "output_type": "execute_result"
    }
   ],
   "source": [
    "trend_pol.intercept_, trend_pol.coef_"
   ]
  },
  {
   "cell_type": "code",
   "execution_count": 76,
   "metadata": {},
   "outputs": [
    {
     "data": {
      "text/plain": [
       "(0.41246057067100356, array([0.00375872]))"
      ]
     },
     "execution_count": 76,
     "metadata": {},
     "output_type": "execute_result"
    }
   ],
   "source": [
    "trend_sub.intercept_, trend_sub.coef_"
   ]
  },
  {
   "cell_type": "code",
   "execution_count": 86,
   "metadata": {},
   "outputs": [],
   "source": [
    "z1 = reg1.predict(X)\n",
    "z2 = reg2.predict(X)"
   ]
  },
  {
   "cell_type": "code",
   "execution_count": 117,
   "metadata": {},
   "outputs": [
    {
     "name": "stdout",
     "output_type": "stream",
     "text": [
      "                                 OLS Regression Results                                \n",
      "=======================================================================================\n",
      "Dep. Variable:               polarity   R-squared (uncentered):                   0.653\n",
      "Model:                            OLS   Adj. R-squared (uncentered):              0.618\n",
      "Method:                 Least Squares   F-statistic:                              18.80\n",
      "Date:                Mon, 25 Oct 2021   Prob (F-statistic):                     0.00148\n",
      "Time:                        21:36:01   Log-Likelihood:                          11.500\n",
      "No. Observations:                  11   AIC:                                     -21.00\n",
      "Df Residuals:                      10   BIC:                                     -20.60\n",
      "Df Model:                           1                                                  \n",
      "Covariance Type:            nonrobust                                                  \n",
      "==============================================================================\n",
      "                 coef    std err          t      P>|t|      [0.025      0.975]\n",
      "------------------------------------------------------------------------------\n",
      "x1             0.0172      0.004      4.336      0.001       0.008       0.026\n",
      "==============================================================================\n",
      "Omnibus:                        0.644   Durbin-Watson:                   0.210\n",
      "Prob(Omnibus):                  0.725   Jarque-Bera (JB):                0.344\n",
      "Skew:                           0.389   Prob(JB):                        0.842\n",
      "Kurtosis:                       2.621   Cond. No.                         1.00\n",
      "==============================================================================\n",
      "\n",
      "Notes:\n",
      "[1] R² is computed without centering (uncentered) since the model does not contain a constant.\n",
      "[2] Standard Errors assume that the covariance matrix of the errors is correctly specified.\n"
     ]
    },
    {
     "name": "stderr",
     "output_type": "stream",
     "text": [
      "C:\\Users\\zheng\\anaconda3\\lib\\site-packages\\scipy\\stats\\stats.py:1541: UserWarning:\n",
      "\n",
      "kurtosistest only valid for n>=20 ... continuing anyway, n=11\n",
      "\n"
     ]
    }
   ],
   "source": [
    "est1 = sm.OLS(y1,X)\n",
    "est1 = est1.fit()\n",
    "print(est1.summary())"
   ]
  },
  {
   "cell_type": "code",
   "execution_count": 118,
   "metadata": {},
   "outputs": [
    {
     "name": "stdout",
     "output_type": "stream",
     "text": [
      "                                 OLS Regression Results                                \n",
      "=======================================================================================\n",
      "Dep. Variable:           subjectivity   R-squared (uncentered):                   0.803\n",
      "Model:                            OLS   Adj. R-squared (uncentered):              0.783\n",
      "Method:                 Least Squares   F-statistic:                              40.80\n",
      "Date:                Mon, 25 Oct 2021   Prob (F-statistic):                    7.96e-05\n",
      "Time:                        21:36:06   Log-Likelihood:                          2.4724\n",
      "No. Observations:                  11   AIC:                                     -2.945\n",
      "Df Residuals:                      10   BIC:                                     -2.547\n",
      "Df Model:                           1                                                  \n",
      "Covariance Type:            nonrobust                                                  \n",
      "==============================================================================\n",
      "                 coef    std err          t      P>|t|      [0.025      0.975]\n",
      "------------------------------------------------------------------------------\n",
      "x1             0.0576      0.009      6.388      0.000       0.037       0.078\n",
      "==============================================================================\n",
      "Omnibus:                        0.425   Durbin-Watson:                   0.089\n",
      "Prob(Omnibus):                  0.809   Jarque-Bera (JB):                0.497\n",
      "Skew:                           0.189   Prob(JB):                        0.780\n",
      "Kurtosis:                       2.030   Cond. No.                         1.00\n",
      "==============================================================================\n",
      "\n",
      "Notes:\n",
      "[1] R² is computed without centering (uncentered) since the model does not contain a constant.\n",
      "[2] Standard Errors assume that the covariance matrix of the errors is correctly specified.\n"
     ]
    },
    {
     "name": "stderr",
     "output_type": "stream",
     "text": [
      "C:\\Users\\zheng\\anaconda3\\lib\\site-packages\\scipy\\stats\\stats.py:1541: UserWarning:\n",
      "\n",
      "kurtosistest only valid for n>=20 ... continuing anyway, n=11\n",
      "\n"
     ]
    }
   ],
   "source": [
    "est2 = sm.OLS(y2,X)\n",
    "est2 = est2.fit()\n",
    "print(est2.summary())"
   ]
  },
  {
   "cell_type": "code",
   "execution_count": 104,
   "metadata": {},
   "outputs": [
    {
     "data": {
      "text/plain": [
       "Text(0, 0.5, 'Subjectivity')"
      ]
     },
     "execution_count": 104,
     "metadata": {},
     "output_type": "execute_result"
    },
    {
     "data": {
      "image/png": "[encoded data removed]",
      "text/plain": [
       "<Figure size 1728x1152 with 2 Axes>"
      ]
     },
     "metadata": {
      "needs_background": "light"
     },
     "output_type": "display_data"
    }
   ],
   "source": [
    "# Line displayed people's attitude change by time\n",
    "fig = plt.figure(figsize=(24,16))\n",
    "ax1 = plt.subplot(2,2,1)\n",
    "ax2 = plt.subplot(2,2,2)\n",
    "plt.sca(ax1)\n",
    "plt.plot(X,df_times['polarity'], color='blue',ls='dotted')\n",
    "plt.plot(X,z1,c='blue',linewidth=2)\n",
    "scale_ls = range(1,12)\n",
    "index = ['12/20','01/21','02/21','03/21','04/21','05/21','06/21','07/21','08/21','09/21','10/21']\n",
    "_ = plt.xticks(scale_ls, index)\n",
    "plt.xlabel('Time/month',fontsize=18)\n",
    "plt.ylabel(\"Polarity\",fontsize=18)\n",
    "\n",
    "\n",
    "plt.sca(ax2)\n",
    "plt.plot(X,df_times['subjectivity'], color='red',ls='dotted')\n",
    "plt.plot(X,z2,c='red',linewidth=2)\n",
    "_ = plt.xticks(scale_ls, index)\n",
    "plt.xlabel('Time/month',fontsize=18)\n",
    "plt.ylabel(\"Subjectivity\",fontsize=18)"
   ]
  },
  {
   "cell_type": "markdown",
   "metadata": {},
   "source": [
    "## Topic Modeling"
   ]
  },
  {
   "cell_type": "code",
   "execution_count": 119,
   "metadata": {},
   "outputs": [],
   "source": [
    "cv = CountVectorizer()\n",
    "data_cv = cv.fit_transform(df_states.total_text)\n",
    "data_dtm = pd.DataFrame(data_cv.toarray(), columns=cv.get_feature_names())\n",
    "tdm = data_dtm.transpose()"
   ]
  },
  {
   "cell_type": "code",
   "execution_count": 120,
   "metadata": {},
   "outputs": [],
   "source": [
    "sparse_counts = scipy.sparse.csr_matrix(tdm)\n",
    "corpus = matutils.Sparse2Corpus(sparse_counts)"
   ]
  },
  {
   "cell_type": "code",
   "execution_count": 121,
   "metadata": {},
   "outputs": [],
   "source": [
    "id2word = dict((v, k) for k, v in cv.vocabulary_.items())"
   ]
  },
  {
   "cell_type": "code",
   "execution_count": 126,
   "metadata": {},
   "outputs": [
    {
     "data": {
      "text/plain": [
       "[(0,\n",
       "  '0.002*\"covishield\" + 0.001*\"india\" + 0.001*\"narendramodi\" + 0.001*\"icmr\" + 0.001*\"pmoindia\" + 0.001*\"drreddys\" + 0.001*\"crore\" + 0.001*\"nhmassam\" + 0.001*\"covaxin\" + 0.000*\"modi\"'),\n",
       " (1,\n",
       "  '0.052*\"moderna\" + 0.030*\"vaccine\" + 0.015*\"covid19\" + 0.013*\"shot\" + 0.013*\"got\" + 0.011*\"dose\" + 0.009*\"pfizer\" + 0.009*\"first\" + 0.009*\"vaccinated\" + 0.008*\"covaxin\"')]"
      ]
     },
     "execution_count": 126,
     "metadata": {},
     "output_type": "execute_result"
    }
   ],
   "source": [
    "lda = models.LdaModel(corpus=corpus, id2word=id2word, num_topics=2, passes=30)\n",
    "lda.print_topics()"
   ]
  },
  {
   "cell_type": "code",
   "execution_count": 123,
   "metadata": {},
   "outputs": [],
   "source": [
    "def nouns_adj(text):\n",
    "    '''Given a string of text, tokenize the text and pull out only the nouns and adjectives.'''\n",
    "    is_noun_adj = lambda pos: pos[:2] == 'NN' or pos[:2] == 'JJ'\n",
    "    tokenized = word_tokenize(text)\n",
    "    nouns_adj = [word for (word, pos) in pos_tag(tokenized) if is_noun_adj(pos)] \n",
    "    return ' '.join(nouns_adj)"
   ]
  },
  {
   "cell_type": "code",
   "execution_count": 127,
   "metadata": {},
   "outputs": [],
   "source": [
    "data_nouns_adj = pd.DataFrame(df_states.total_text.apply(nouns_adj))"
   ]
  },
  {
   "cell_type": "code",
   "execution_count": 128,
   "metadata": {},
   "outputs": [],
   "source": [
    "# Create a new document-term matrix using only nouns and adjectives, also remove common words with max_df\n",
    "cvna = CountVectorizer(max_df=.8)\n",
    "data_cvna = cvna.fit_transform(data_nouns_adj.total_text)\n",
    "data_dtmna = pd.DataFrame(data_cvna.toarray(), columns=cvna.get_feature_names())\n",
    "data_dtmna.index = data_nouns_adj.index"
   ]
  },
  {
   "cell_type": "code",
   "execution_count": 129,
   "metadata": {},
   "outputs": [],
   "source": [
    "# Create the gensim corpus\n",
    "corpusna = matutils.Sparse2Corpus(scipy.sparse.csr_matrix(data_dtmna.transpose()))\n",
    "\n",
    "# Create the vocabulary dictionary\n",
    "id2wordna = dict((v, k) for k, v in cvna.vocabulary_.items())"
   ]
  },
  {
   "cell_type": "code",
   "execution_count": 134,
   "metadata": {},
   "outputs": [
    {
     "data": {
      "text/plain": [
       "[(0,\n",
       "  '0.006*\"ocugen\" + 0.006*\"bharatbiotech\" + 0.005*\"world\" + 0.004*\"let\" + 0.004*\"heal\" + 0.003*\"time\" + 0.003*\"effective\" + 0.003*\"week\" + 0.003*\"johnsonandjohnson\" + 0.003*\"last\"'),\n",
       " (1,\n",
       "  '0.006*\"bharatbiotech\" + 0.006*\"ocgn\" + 0.004*\"ocugen\" + 0.004*\"effective\" + 0.004*\"data\" + 0.004*\"sputnikv\" + 0.003*\"sinovac\" + 0.003*\"available\" + 0.003*\"time\" + 0.003*\"week\"'),\n",
       " (2,\n",
       "  '0.003*\"sputnikvaccine\" + 0.002*\"sinopharm\" + 0.001*\"walkins\" + 0.001*\"welcome\" + 0.001*\"order\" + 0.001*\"sleep\" + 0.001*\"hundreds\" + 0.001*\"ass\" + 0.001*\"conditions\" + 0.001*\"mondayfriday\"')]"
      ]
     },
     "execution_count": 134,
     "metadata": {},
     "output_type": "execute_result"
    }
   ],
   "source": [
    "ldana = models.LdaModel(corpus=corpusna, num_topics=3, id2word=id2wordna, passes=40)\n",
    "ldana.print_topics()"
   ]
  },
  {
   "cell_type": "markdown",
   "metadata": {},
   "source": [
    "#### We can see that the 3 topic regaring COVID-19 vaccines are:\n",
    "        1. The healing effect of vaccines\n",
    "        2. Vaccines developed by different countries and their effectivness\n",
    "        3. How to be vaccined."
   ]
  },
  {
   "cell_type": "code",
   "execution_count": null,
   "metadata": {},
   "outputs": [],
   "source": []
  }
 ],
 "metadata": {
  "kernelspec": {
   "display_name": "Python 3 (ipykernel)",
   "language": "python",
   "name": "python3"
  },
  "language_info": {
   "codemirror_mode": {
    "name": "ipython",
    "version": 3
   },
   "file_extension": ".py",
   "mimetype": "text/x-python",
   "name": "python",
   "nbconvert_exporter": "python",
   "pygments_lexer": "ipython3",
   "version": "3.8.3"
  }
 },
 "nbformat": 4,
 "nbformat_minor": 4
}
